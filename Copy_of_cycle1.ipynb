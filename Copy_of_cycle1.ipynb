{
  "nbformat": 4,
  "nbformat_minor": 0,
  "metadata": {
    "colab": {
      "name": "Copy of cycle1.ipynb",
      "provenance": [],
      "collapsed_sections": [],
      "toc_visible": true,
      "mount_file_id": "1LHWhvlKZfX0B4im34T3JR4m3wEmBaaGs",
      "authorship_tag": "ABX9TyNWcyCCidRzVF5gcu0RGLWU",
      "include_colab_link": true
    },
    "kernelspec": {
      "name": "python3",
      "display_name": "Python 3"
    }
  },
  "cells": [
    {
      "cell_type": "markdown",
      "metadata": {
        "id": "view-in-github",
        "colab_type": "text"
      },
      "source": [
        "<a href=\"https://colab.research.google.com/github/Athira612/python-lab/blob/main/Copy_of_cycle1.ipynb\" target=\"_parent\"><img src=\"https://colab.research.google.com/assets/colab-badge.svg\" alt=\"Open In Colab\"/></a>"
      ]
    },
    {
      "cell_type": "code",
      "metadata": {
        "colab": {
          "base_uri": "https://localhost:8080/"
        },
        "id": "LNh6H9iXG5O5",
        "outputId": "e288b3f2-c36e-4c0e-fd06-f99789ec5bf1"
      },
      "source": [
        "print(\"Hello, World!\")"
      ],
      "execution_count": null,
      "outputs": [
        {
          "output_type": "stream",
          "text": [
            "Hello, World!\n"
          ],
          "name": "stdout"
        }
      ]
    },
    {
      "cell_type": "code",
      "metadata": {
        "colab": {
          "base_uri": "https://localhost:8080/"
        },
        "id": "M8d-Yn5THbTG",
        "outputId": "2a121a1e-178f-4744-bf82-f27820a35d97"
      },
      "source": [
        "a = int(input(\"enter first number: \"))\r\n",
        "b = int(input(\"enter second number: \"))\r\n",
        "sum = a + b\r\n",
        "print(\"sum of two integers:\", sum)"
      ],
      "execution_count": null,
      "outputs": [
        {
          "output_type": "stream",
          "text": [
            "enter first number: 2\n",
            "enter second number: 2\n",
            "sum of two integers: 4\n"
          ],
          "name": "stdout"
        }
      ]
    },
    {
      "cell_type": "code",
      "metadata": {
        "colab": {
          "base_uri": "https://localhost:8080/"
        },
        "id": "2IRsWiu7JJGs",
        "outputId": "1174d503-3e19-4bcd-c8a2-108131eef073"
      },
      "source": [
        "num=int(input(\"Enter the integer: \"))\r\n",
        "print(\"You entered\",num)"
      ],
      "execution_count": null,
      "outputs": [
        {
          "output_type": "stream",
          "text": [
            "Enter the integer: 45\n",
            "You entered 45\n"
          ],
          "name": "stdout"
        }
      ]
    },
    {
      "cell_type": "code",
      "metadata": {
        "colab": {
          "base_uri": "https://localhost:8080/"
        },
        "id": "4bv6ZNtbJ3VF",
        "outputId": "da39f401-94ce-4ab4-b673-74e8b6def3b8"
      },
      "source": [
        "a = float(input(\"enter first number: \"))\r\n",
        "b = float(input(\"enter second number: \"))\r\n",
        "mul = a * b\r\n",
        "print(\"sum of two integers:\", mul)"
      ],
      "execution_count": null,
      "outputs": [
        {
          "output_type": "stream",
          "text": [
            "enter first number: 5.6\n",
            "enter second number: 3.4\n",
            "sum of two integers: 19.04\n"
          ],
          "name": "stdout"
        }
      ]
    },
    {
      "cell_type": "code",
      "metadata": {
        "colab": {
          "base_uri": "https://localhost:8080/"
        },
        "id": "DTrxTE3yKUnO",
        "outputId": "3433ba18-c262-4848-cfdb-c9c2aaa7ffc4"
      },
      "source": [
        "a=int(input(\"Enter the first number: \"))\r\n",
        "b=int(input(\"Enter the second number: \"))\r\n",
        "quotient=a//b\r\n",
        "remainder=a%b\r\n",
        "print(\"Quotient is:\",quotient)\r\n",
        "print(\"Remainder is:\",remainder)"
      ],
      "execution_count": null,
      "outputs": [
        {
          "output_type": "stream",
          "text": [
            "Enter the first number: 10\n",
            "Enter the second number: 3\n",
            "Quotient is: 3\n",
            "Remainder is: 1\n"
          ],
          "name": "stdout"
        }
      ]
    },
    {
      "cell_type": "code",
      "metadata": {
        "colab": {
          "base_uri": "https://localhost:8080/"
        },
        "id": "h7e0cq08K19s",
        "outputId": "b77776ab-404d-4ad8-b186-1a2fc59448c8"
      },
      "source": [
        "num1 = input('Enter First Number: ')\r\n",
        "num2 = input('Enter Second Number: ')\r\n",
        "\r\n",
        "print(\"Value of num1 before swapping: \", num1)\r\n",
        "print(\"Value of num2 before swapping: \", num2)\r\n",
        "\r\n",
        "temp = num1\r\n",
        "num1 = num2\r\n",
        "num2 = temp\r\n",
        "\r\n",
        "print(\"Value of num1 after swapping: \", num1)\r\n",
        "print(\"Value of num2 after swapping: \", num2)"
      ],
      "execution_count": null,
      "outputs": [
        {
          "output_type": "stream",
          "text": [
            "Enter First Number: 101\n",
            "Enter Second Number: 55\n",
            "Value of num1 before swapping:  101\n",
            "Value of num2 before swapping:  55\n",
            "Value of num1 after swapping:  55\n",
            "Value of num2 after swapping:  101\n"
          ],
          "name": "stdout"
        }
      ]
    },
    {
      "cell_type": "code",
      "metadata": {
        "colab": {
          "base_uri": "https://localhost:8080/"
        },
        "id": "9ikwmlyuMdjC",
        "outputId": "f541b3d1-0e11-4ef3-9908-e02d0e33417b"
      },
      "source": [
        "num = int(input(\"Enter a number: \"))  \r\n",
        "if (num % 2) == 0:  \r\n",
        "   print(\"{0} is Even number\".format(num))  \r\n",
        "else:  \r\n",
        "   print(\"{0} is Odd number\".format(num))  "
      ],
      "execution_count": null,
      "outputs": [
        {
          "output_type": "stream",
          "text": [
            "Enter a number: 2\n",
            "2 is Even number\n"
          ],
          "name": "stdout"
        }
      ]
    },
    {
      "cell_type": "code",
      "metadata": {
        "colab": {
          "base_uri": "https://localhost:8080/"
        },
        "id": "EqaVBLLsOyBk",
        "outputId": "26c5e130-73e0-4bfb-ef15-6cd809c248cd"
      },
      "source": [
        "ch = input(\"Enter a character: \")\r\n",
        "\r\n",
        "if(ch=='A' or ch=='a' or ch=='E' or ch =='e' or ch=='I'\r\n",
        " or ch=='i' or ch=='O' or ch=='o' or ch=='U' or ch=='u'):\r\n",
        "    print(ch, \"is a Vowel\")\r\n",
        "else:\r\n",
        "    print(ch, \"is a Consonant\")"
      ],
      "execution_count": null,
      "outputs": [
        {
          "output_type": "stream",
          "text": [
            "Enter a character: a\n",
            "a is a Vowel\n"
          ],
          "name": "stdout"
        }
      ]
    },
    {
      "cell_type": "code",
      "metadata": {
        "colab": {
          "base_uri": "https://localhost:8080/"
        },
        "id": "7j9GfqhGPakG",
        "outputId": "3784a7dd-4844-4b7c-d2ce-6a85fc1ed9ec"
      },
      "source": [
        "num1 = float(input(\"Enter first number: \"))\r\n",
        "num2 = float(input(\"Enter second number: \"))\r\n",
        "num3 = float(input(\"Enter third number: \"))\r\n",
        " \r\n",
        "if (num1 > num2) and (num1 > num3):\r\n",
        "   largest = num1\r\n",
        "elif (num2 > num1) and (num2 > num3):\r\n",
        "   largest = num2\r\n",
        "else:\r\n",
        "   largest = num3\r\n",
        " \r\n",
        "print(\"The largest number is\",largest)"
      ],
      "execution_count": null,
      "outputs": [
        {
          "output_type": "stream",
          "text": [
            "Enter first number: 500\n",
            "Enter second number: 350\n",
            "Enter third number: 1000\n",
            "The largest number is 1000.0\n"
          ],
          "name": "stdout"
        }
      ]
    },
    {
      "cell_type": "code",
      "metadata": {
        "colab": {
          "base_uri": "https://localhost:8080/"
        },
        "id": "KxBHvKHKQEcN",
        "outputId": "a4e7636b-f51b-4986-a5da-41193af78f88"
      },
      "source": [
        "year = int(input(\"Enter a year: \"))  \r\n",
        "if (year % 4) == 0:  \r\n",
        "   if (year % 100) == 0:  \r\n",
        "       if (year % 400) == 0:  \r\n",
        "           print(\"{0} is a leap year\".format(year))  \r\n",
        "       else:  \r\n",
        "           print(\"{0} is not a leap year\".format(year))  \r\n",
        "   else:  \r\n",
        "       print(\"{0} is a leap year\".format(year))  \r\n",
        "else:  \r\n",
        "   print(\"{0} is not a leap year\".format(year))  "
      ],
      "execution_count": null,
      "outputs": [
        {
          "output_type": "stream",
          "text": [
            "Enter a year: 1999\n",
            "1999 is not a leap year\n"
          ],
          "name": "stdout"
        }
      ]
    },
    {
      "cell_type": "code",
      "metadata": {
        "colab": {
          "base_uri": "https://localhost:8080/"
        },
        "id": "FH19okvcQz-N",
        "outputId": "0913e6f3-17ed-4a78-88a5-8c92dee9c750"
      },
      "source": [
        "num = float(input(\"Enter a number: \"))  \r\n",
        "  \r\n",
        "if num > 0:  \r\n",
        " print(\"{0} is a positive number\".format(num))  \r\n",
        "elif num == 0:  \r\n",
        "   print(\"{0} is zero\".format(num))   \r\n",
        "else:  \r\n",
        "   print(\"{0} is negative number\".format(num))   "
      ],
      "execution_count": null,
      "outputs": [
        {
          "output_type": "stream",
          "text": [
            "Enter a number: 5\n",
            "5.0 is a positive number\n"
          ],
          "name": "stdout"
        }
      ]
    },
    {
      "cell_type": "code",
      "metadata": {
        "colab": {
          "base_uri": "https://localhost:8080/"
        },
        "id": "LDPC8-aJRJdA",
        "outputId": "5f4e7f85-4bc4-4dfc-8a71-c387a0a2f2ce"
      },
      "source": [
        "num = int(input(\"Enter a number: \"))  \r\n",
        "  \r\n",
        "if num < 0:  \r\n",
        "   print(\"Enter a positive number\")  \r\n",
        "else:  \r\n",
        "   sum = 0  \r\n",
        "   while(num > 0):  \r\n",
        "       sum += num  \r\n",
        "       num -= 1  \r\n",
        "   print(\"The sum is\",sum)  "
      ],
      "execution_count": null,
      "outputs": [
        {
          "output_type": "stream",
          "text": [
            "Enter a number: 100\n",
            "The sum is 5050\n"
          ],
          "name": "stdout"
        }
      ]
    },
    {
      "cell_type": "code",
      "metadata": {
        "colab": {
          "base_uri": "https://localhost:8080/"
        },
        "id": "LOr8NuhuRqmx",
        "outputId": "07bfdcba-89de-4ac3-a8eb-9e382b8544e9"
      },
      "source": [
        "num = int(input(\"Enter a number: \"))  \r\n",
        "factorial = 1  \r\n",
        "if num < 0:  \r\n",
        "   print(\"factorial does not exist for negative numbers\")  \r\n",
        "elif num == 0:  \r\n",
        "   print(\"The factorial of 0 is 1\")  \r\n",
        "else:  \r\n",
        "   for i in range(1,num + 1):  \r\n",
        "       factorial = factorial*i  \r\n",
        "   print(\"The factorial of\",num,\"is\",factorial)  "
      ],
      "execution_count": null,
      "outputs": [
        {
          "output_type": "stream",
          "text": [
            "Enter a number: 5\n",
            "The factorial of 5 is 120\n"
          ],
          "name": "stdout"
        }
      ]
    },
    {
      "cell_type": "code",
      "metadata": {
        "colab": {
          "base_uri": "https://localhost:8080/"
        },
        "id": "i_aAt3gyTEgN",
        "outputId": "1edb5944-3999-40f5-bc66-480c7c0d697e"
      },
      "source": [
        "nterms = int(input(\"How many terms you want? \"))  \r\n",
        "# first two terms  \r\n",
        "n1 = 0  \r\n",
        "n2 = 1  \r\n",
        "count = 2  \r\n",
        "# check if the number of terms is valid  \r\n",
        "if nterms <= 0:  \r\n",
        "   print(\"Plese enter a positive integer\")  \r\n",
        "elif nterms == 1:  \r\n",
        "   print(\"Fibonacci sequence:\")  \r\n",
        "   print(n1)  \r\n",
        "else:  \r\n",
        "   print(\"Fibonacci sequence:\")  \r\n",
        "   print(n1,\",\",n2,end=', ')  \r\n",
        "   while count < nterms:  \r\n",
        "       nth = n1 + n2  \r\n",
        "       print(nth,end=' , ')  \r\n",
        "       # update values  \r\n",
        "       n1 = n2  \r\n",
        "       n2 = nth  \r\n",
        "       count += 1  \r\n",
        "       "
      ],
      "execution_count": null,
      "outputs": [
        {
          "output_type": "stream",
          "text": [
            "How many terms you want? 10\n",
            "Fibonacci sequence:\n",
            "0 , 1, 1 , 2 , 3 , 5 , 8 , 13 , 21 , 34 , "
          ],
          "name": "stdout"
        }
      ]
    },
    {
      "cell_type": "code",
      "metadata": {
        "colab": {
          "base_uri": "https://localhost:8080/"
        },
        "id": "thpGQg5uUbQ2",
        "outputId": "24e72333-157a-4c12-c514-f77645fb4495"
      },
      "source": [
        "num = int(input(\"Show the multiplication table of? \"))  \r\n",
        "# using for loop to iterate multiplication 10 times   \r\n",
        "for i in range(1,11):  \r\n",
        "   print(num,'x',i,'=',num*i)  \r\n",
        "   "
      ],
      "execution_count": null,
      "outputs": [
        {
          "output_type": "stream",
          "text": [
            "Show the multiplication table of? 9\n",
            "9 x 1 = 9\n",
            "9 x 2 = 18\n",
            "9 x 3 = 27\n",
            "9 x 4 = 36\n",
            "9 x 5 = 45\n",
            "9 x 6 = 54\n",
            "9 x 7 = 63\n",
            "9 x 8 = 72\n",
            "9 x 9 = 81\n",
            "9 x 10 = 90\n"
          ],
          "name": "stdout"
        }
      ]
    },
    {
      "cell_type": "code",
      "metadata": {
        "colab": {
          "base_uri": "https://localhost:8080/"
        },
        "id": "4F9vqvwJUrDE",
        "outputId": "4622635f-c290-49f5-a3e1-01bba554cde1"
      },
      "source": [
        "Number = int(input(\"Please Enter any Number: \"))    \r\n",
        "Reverse = 0    \r\n",
        "while(Number > 0):    \r\n",
        "    Reminder = Number %10    \r\n",
        "    Reverse = (Reverse *10) + Reminder    \r\n",
        "    Number = Number //10    \r\n",
        "     \r\n",
        "print(\"\\n Reverse of entered number is = %d\" %Reverse)   "
      ],
      "execution_count": null,
      "outputs": [
        {
          "output_type": "stream",
          "text": [
            "Please Enter any Number: 10\n",
            "\n",
            " Reverse of entered number is = 1\n"
          ],
          "name": "stdout"
        }
      ]
    }
  ]
}
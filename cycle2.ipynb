{
  "nbformat": 4,
  "nbformat_minor": 0,
  "metadata": {
    "colab": {
      "name": "Untitled3.ipynb",
      "provenance": [],
      "authorship_tag": "ABX9TyM1aJjWLxenEfxAeN6HNM1G",
      "include_colab_link": true
    },
    "kernelspec": {
      "name": "python3",
      "display_name": "Python 3"
    }
  },
  "cells": [
    {
      "cell_type": "markdown",
      "metadata": {
        "id": "view-in-github",
        "colab_type": "text"
      },
      "source": [
        "<a href=\"https://colab.research.google.com/github/Athira612/python-lab/blob/main/cycle2.ipynb\" target=\"_parent\"><img src=\"https://colab.research.google.com/assets/colab-badge.svg\" alt=\"Open In Colab\"/></a>"
      ]
    },
    {
      "cell_type": "code",
      "metadata": {
        "colab": {
          "base_uri": "https://localhost:8080/"
        },
        "id": "0X3N1QSQOWLH",
        "outputId": "91036435-9b77-43fa-8f4b-238d3a83d6dc"
      },
      "source": [
        "y=int(input(\"enter final leap year:\"))\r\n",
        "print (\"future leap year from 2021\")\r\n",
        "for x in range(2021 , y+1):\r\n",
        "   if ((x%4==0) and (x%100!=0)):\r\n",
        "     print(x)"
      ],
      "execution_count": 7,
      "outputs": [
        {
          "output_type": "stream",
          "text": [
            "enter final leap year:2041\n",
            "future leap year from 2021\n",
            "2024\n",
            "2028\n",
            "2032\n",
            "2036\n",
            "2040\n"
          ],
          "name": "stdout"
        }
      ]
    },
    {
      "cell_type": "code",
      "metadata": {
        "colab": {
          "base_uri": "https://localhost:8080/"
        },
        "id": "8kPiK282OgGQ",
        "outputId": "52c8086f-98af-45e1-b7b9-fb2b795303e0"
      },
      "source": [
        "list1=[-10,2,5,7,9,23,56,-3,-6,-8,-2,-7,-5,-1,-11,21,22,18,-17,14,15,16]\r\n",
        "list2=[x for x in list1 if x>0]\r\n",
        "print(\"list of positive integers:\",list2)"
      ],
      "execution_count": 6,
      "outputs": [
        {
          "output_type": "stream",
          "text": [
            "list of positive integers: [2, 5, 7, 9, 23, 56, 21, 22, 18, 14, 15, 16]\n"
          ],
          "name": "stdout"
        }
      ]
    },
    {
      "cell_type": "code",
      "metadata": {
        "colab": {
          "base_uri": "https://localhost:8080/"
        },
        "id": "O6WZdjemOhFY",
        "outputId": "b3d46cf7-4ed5-4497-96ed-c157cc4e4656"
      },
      "source": [
        "x=[]\r\n",
        "n1=int(input(\"enter any integer:\"))\r\n",
        "for i in range(1,n1+1):\r\n",
        "    a=int(input())\r\n",
        "    if (a>100):\r\n",
        "      x.append('over')\r\n",
        "    else:\r\n",
        "      x.append(a)\r\n",
        "print(\"modified list:\",x)     "
      ],
      "execution_count": 5,
      "outputs": [
        {
          "output_type": "stream",
          "text": [
            "enter any integer:5\n",
            "200\n",
            "10\n",
            "80\n",
            "100\n",
            "490\n",
            "modified list: ['over', 10, 80, 100, 'over']\n"
          ],
          "name": "stdout"
        }
      ]
    },
    {
      "cell_type": "code",
      "metadata": {
        "colab": {
          "base_uri": "https://localhost:8080/"
        },
        "id": "KM77F0MXOnlz",
        "outputId": "df0bc329-e2a8-4dde-ef12-d9c95d018701"
      },
      "source": [
        "# Qu.7(a)\r\n",
        "list1=[1,2,3,4,5,6,7,8]\r\n",
        "list2=[10,3,11,9,14,15,12,13,16]\r\n",
        "total=0\r\n",
        "print(\"length of list1 is:\",len(list1))\r\n",
        "print(\"length of list2 is:\",len(list2))\r\n",
        "if list1 == list2:\r\n",
        "    print(\"list1 and list2 have same length:\")\r\n",
        "else:\r\n",
        "    print(\"list1 and list2 not have a same length:\")\r\n"
      ],
      "execution_count": 4,
      "outputs": [
        {
          "output_type": "stream",
          "text": [
            "length of list1 is: 8\n",
            "length of list2 is: 9\n",
            "list1 and list2 not have a same length:\n"
          ],
          "name": "stdout"
        }
      ]
    },
    {
      "cell_type": "code",
      "metadata": {
        "colab": {
          "base_uri": "https://localhost:8080/"
        },
        "id": "FgROxRHjOyxZ",
        "outputId": "34f622c6-9171-40a9-f646-854e4ec2fa4c"
      },
      "source": [
        "# Qu.7(b)\r\n",
        "total1=0\r\n",
        "total2=0\r\n",
        "list1=[1,2,3,4,5,6,7,8]\r\n",
        "list2=[10,3,11,9,14,15,12,13,16]\r\n",
        "for ele in range(0, len(list1)):\r\n",
        "  total1 = total1 + list1[ele]\r\n",
        "print(\"sum of elements in list:\",total1)\r\n",
        "for ele in range(0,len(list2)):\r\n",
        "  total2 = total2 + list2[ele]\r\n",
        "print(\"sum of element in list2:\", total2)\r\n",
        "if(total1==total2):\r\n",
        "  print(\"the sum of element in list and list2 is same\")\r\n",
        "else:\r\n",
        "  print(\"the sum of element in list and list2 is different\")\r\n",
        "  "
      ],
      "execution_count": 3,
      "outputs": [
        {
          "output_type": "stream",
          "text": [
            "sum of elements in list: 36\n",
            "sum of element in list2: 103\n",
            "the sum of element in list and list2 is different\n"
          ],
          "name": "stdout"
        }
      ]
    },
    {
      "cell_type": "code",
      "metadata": {
        "colab": {
          "base_uri": "https://localhost:8080/"
        },
        "id": "Nat4zuOcPOfm",
        "outputId": "0038e314-316e-4748-dcf7-fea5b5ac80a2"
      },
      "source": [
        "#Qu.7(c)\r\n",
        "list1=[1,2,3,4,5,6,7,8]\r\n",
        "setlist1=set(list1)\r\n",
        "list2=[10,3,11,9,14,15,12,13,16]\r\n",
        "setlist2=set(list2)\r\n",
        "print(\"set of first list:\",setlist1)\r\n",
        "print(\"set of second list:\",setlist2)\r\n",
        "z=setlist1.intersection(setlist2)\r\n",
        "print(\"common value present in list and list2 is:\",z)\r\n"
      ],
      "execution_count": 2,
      "outputs": [
        {
          "output_type": "stream",
          "text": [
            "set of first list: {1, 2, 3, 4, 5, 6, 7, 8}\n",
            "set of second list: {3, 9, 10, 11, 12, 13, 14, 15, 16}\n",
            "common value present in list and list2 is: {3}\n"
          ],
          "name": "stdout"
        }
      ]
    }
  ]
}
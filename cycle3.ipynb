{
  "nbformat": 4,
  "nbformat_minor": 0,
  "metadata": {
    "colab": {
      "name": "cycle3.ipynb",
      "provenance": [],
      "collapsed_sections": [],
      "authorship_tag": "ABX9TyNgd1mcnJH7XNnlAY8F5GtP",
      "include_colab_link": true
    },
    "kernelspec": {
      "name": "python3",
      "display_name": "Python 3"
    }
  },
  "cells": [
    {
      "cell_type": "markdown",
      "metadata": {
        "id": "view-in-github",
        "colab_type": "text"
      },
      "source": [
        "<a href=\"https://colab.research.google.com/github/Athira612/python-lab/blob/main/cycle3.ipynb\" target=\"_parent\"><img src=\"https://colab.research.google.com/assets/colab-badge.svg\" alt=\"Open In Colab\"/></a>"
      ]
    },
    {
      "cell_type": "code",
      "metadata": {
        "colab": {
          "base_uri": "https://localhost:8080/"
        },
        "id": "RthjwcYi5U7S",
        "outputId": "fe12cb8c-f861-4a0a-8b4e-8cfbe0bebfa4"
      },
      "source": [
        "# Python program to find the factorial of a number provided by the user.\r\n",
        "\r\n",
        "# change the value for a different result\r\n",
        "num = 7\r\n",
        "\r\n",
        "# To take input from the user\r\n",
        "#num = int(input(\"Enter a number: \"))\r\n",
        "\r\n",
        "factorial = 1\r\n",
        "\r\n",
        "# check if the number is negative, positive or zero\r\n",
        "if num < 0:\r\n",
        "   print(\"Sorry, factorial does not exist for negative numbers\")\r\n",
        "elif num == 0:\r\n",
        "   print(\"The factorial of 0 is 1\")\r\n",
        "else:\r\n",
        "   for i in range(1,num + 1):\r\n",
        "       factorial = factorial*i\r\n",
        "   print(\"The factorial of\",num,\"is\",factorial)"
      ],
      "execution_count": null,
      "outputs": [
        {
          "output_type": "stream",
          "text": [
            "The factorial of 7 is 5040\n"
          ],
          "name": "stdout"
        }
      ]
    },
    {
      "cell_type": "code",
      "metadata": {
        "colab": {
          "base_uri": "https://localhost:8080/"
        },
        "id": "QoUbt9rD50oi",
        "outputId": "a7cf4b4d-5dd7-40f1-fd52-f3f16784361a"
      },
      "source": [
        "def FibRecursion(n):  \r\n",
        "   if n <= 1:  \r\n",
        "       return n  \r\n",
        "   else:  \r\n",
        "       return(FibRecursion(n-1) + FibRecursion(n-2))  \r\n",
        "nterms = int(input(\"Enter the terms? \"))  # take input from the user\r\n",
        "  \r\n",
        "if nterms <= 0:  # check if the number is valid \r\n",
        "   print(\"Please enter a positive integer\")  \r\n",
        "else:  \r\n",
        "   print(\"Fibonacci sequence:\")  \r\n",
        "   for i in range(nterms):  \r\n",
        "       print(FibRecursion(i))"
      ],
      "execution_count": null,
      "outputs": [
        {
          "output_type": "stream",
          "text": [
            "Enter the terms? 5\n",
            "Fibonacci sequence:\n",
            "0\n",
            "1\n",
            "1\n",
            "2\n",
            "3\n"
          ],
          "name": "stdout"
        }
      ]
    },
    {
      "cell_type": "code",
      "metadata": {
        "colab": {
          "base_uri": "https://localhost:8080/"
        },
        "id": "CJ4zOEoN6v2E",
        "outputId": "7e2a5ff9-1ba5-4630-93ab-e28e23ffd47a"
      },
      "source": [
        "lst = []\r\n",
        "num = int(input('How many numbers: '))\r\n",
        "for n in range(num):\r\n",
        "    numbers = int(input('Enter number '))\r\n",
        "    lst.append(numbers)\r\n",
        "print(\"Sum of elements in given list is :\", sum(lst))"
      ],
      "execution_count": null,
      "outputs": [
        {
          "output_type": "stream",
          "text": [
            "How many numbers: 5\n",
            "Enter number 35\n",
            "Enter number 45\n",
            "Enter number 55\n",
            "Enter number 66\n",
            "Enter number 88\n",
            "Sum of elements in given list is : 289\n"
          ],
          "name": "stdout"
        }
      ]
    },
    {
      "cell_type": "code",
      "metadata": {
        "colab": {
          "base_uri": "https://localhost:8080/"
        },
        "id": "GzMh21iA7uHl",
        "outputId": "1b103d40-e129-4f89-8ebf-ef911056df0e"
      },
      "source": [
        "for i in range(1000,10000,1):\r\n",
        "\r\n",
        "   for j in range(32,100,1):\r\n",
        "\r\n",
        "       if i == j*j:\r\n",
        "\r\n",
        "           string = str(i)\r\n",
        "\r\n",
        "           if int(string[0])%2 == 0 and int(string[1])%2 == 0 and int(string[2])%2 == 0 and int(string[3])%2 == 0:\r\n",
        "\r\n",
        "               print(i)"
      ],
      "execution_count": 7,
      "outputs": [
        {
          "output_type": "stream",
          "text": [
            "4624\n",
            "6084\n",
            "6400\n",
            "8464\n"
          ],
          "name": "stdout"
        }
      ]
    },
    {
      "cell_type": "code",
      "metadata": {
        "colab": {
          "base_uri": "https://localhost:8080/"
        },
        "id": "dnxVIx_G8jsw",
        "outputId": "bc4a904a-4ebe-48da-9e88-292bb035f9ac"
      },
      "source": [
        "# Python 3.x code to demonstrate star pattern\r\n",
        " \r\n",
        "# Function to demonstrate printing pattern\r\n",
        "def pypart(n):\r\n",
        "     \r\n",
        "    # outer loop to handle number of rows\r\n",
        "    # n in this case\r\n",
        "    for i in range(0, n):\r\n",
        "     \r\n",
        "        # inner loop to handle number of columns\r\n",
        "        # values changing acc. to outer loop\r\n",
        "        for j in range(0, i+1):\r\n",
        "         \r\n",
        "            # printing stars\r\n",
        "            print(\"* \",end=\"\")\r\n",
        "      \r\n",
        "        # ending line after each row\r\n",
        "        print(\"\\r\")\r\n",
        " \r\n",
        "# Driver Code\r\n",
        "n = 5\r\n",
        "pypart(n)"
      ],
      "execution_count": null,
      "outputs": [
        {
          "output_type": "stream",
          "text": [
            "* \r\n",
            "* * \r\n",
            "* * * \r\n",
            "* * * * \r\n",
            "* * * * * \r\n"
          ],
          "name": "stdout"
        }
      ]
    },
    {
      "cell_type": "code",
      "metadata": {
        "colab": {
          "base_uri": "https://localhost:8080/"
        },
        "id": "qg1MQnw08nUI",
        "outputId": "e1699e18-d58d-49ff-f53e-34ac1bb01ce9"
      },
      "source": [
        "def char_frequency(str1):\r\n",
        "    dict = {}\r\n",
        "    for n in str1:\r\n",
        "        keys = dict.keys()\r\n",
        "        if n in keys:\r\n",
        "            dict[n] += 1\r\n",
        "        else:\r\n",
        "            dict[n] = 1\r\n",
        "    return dict\r\n",
        "print(char_frequency('google.com'))"
      ],
      "execution_count": null,
      "outputs": [
        {
          "output_type": "stream",
          "text": [
            "{'g': 2, 'o': 3, 'l': 1, 'e': 1, '.': 1, 'c': 1, 'm': 1}\n"
          ],
          "name": "stdout"
        }
      ]
    },
    {
      "cell_type": "code",
      "metadata": {
        "colab": {
          "base_uri": "https://localhost:8080/"
        },
        "id": "Fd0tmur-9PcQ",
        "outputId": "0c7da0f8-a1b6-44e8-d4c9-74de2ac811da"
      },
      "source": [
        "def add_string(str1):\r\n",
        "  length = len(str1)\r\n",
        "\r\n",
        "  if length > 2:\r\n",
        "    if str1[-3:] == 'ing':\r\n",
        "      str1 += 'ly'\r\n",
        "    else:\r\n",
        "      str1 += 'ing'\r\n",
        "\r\n",
        "  return str1\r\n",
        "print(add_string('ab'))\r\n",
        "print(add_string('abc'))\r\n",
        "print(add_string('string'))"
      ],
      "execution_count": null,
      "outputs": [
        {
          "output_type": "stream",
          "text": [
            "ab\n",
            "abcing\n",
            "stringly\n"
          ],
          "name": "stdout"
        }
      ]
    },
    {
      "cell_type": "code",
      "metadata": {
        "colab": {
          "base_uri": "https://localhost:8080/"
        },
        "id": "Qk6axanT9zeZ",
        "outputId": "bf698b27-25cd-452a-eb66-144d5b4889b7"
      },
      "source": [
        "# function to find the longest \r\n",
        "# length in the list \r\n",
        "def longestLength(a): \r\n",
        "\tmax1 = len(a[0]) \r\n",
        "\ttemp = a[0] \r\n",
        "\r\n",
        "\t# for loop to traverse the list \r\n",
        "\tfor i in a: \r\n",
        "\t\tif(len(i) > max1): \r\n",
        "\r\n",
        "\t\t\tmax1 = len(i) \r\n",
        "\t\t\ttemp = i \r\n",
        "\r\n",
        "\tprint(\"The word with the longest length is:\", temp, \r\n",
        "\t\t\" and length is \", max1) \r\n",
        "\r\n",
        "\r\n",
        "# Driver Program \r\n",
        "a = [\"one\", \"two\", \"third\", \"four\"] \r\n",
        "longestLength(a) \r\n"
      ],
      "execution_count": null,
      "outputs": [
        {
          "output_type": "stream",
          "text": [
            "The word with the longest length is: third  and length is  5\n"
          ],
          "name": "stdout"
        }
      ]
    },
    {
      "cell_type": "code",
      "metadata": {
        "colab": {
          "base_uri": "https://localhost:8080/"
        },
        "id": "ylDVIKUJ-JdQ",
        "outputId": "eecac3a2-f545-4269-faa9-e4c4b191db6e"
      },
      "source": [
        "n=5;\r\n",
        "for i in range(n):\r\n",
        "    for j in range(i):\r\n",
        "        print ('* ', end=\"\")\r\n",
        "    print('')\r\n",
        "\r\n",
        "for i in range(n,0,-1):\r\n",
        "    for j in range(i):\r\n",
        "        print('* ', end=\"\")\r\n",
        "    print('')\r\n",
        "\t"
      ],
      "execution_count": null,
      "outputs": [
        {
          "output_type": "stream",
          "text": [
            "\n",
            "* \n",
            "* * \n",
            "* * * \n",
            "* * * * \n",
            "* * * * * \n",
            "* * * * \n",
            "* * * \n",
            "* * \n",
            "* \n"
          ],
          "name": "stdout"
        }
      ]
    },
    {
      "cell_type": "code",
      "metadata": {
        "colab": {
          "base_uri": "https://localhost:8080/"
        },
        "id": "lN6HNkN0-lfy",
        "outputId": "bbb2355c-47b1-467a-8082-426fe4db5343"
      },
      "source": [
        "# Python Program to find the factors of a number\r\n",
        "\r\n",
        "# This function computes the factor of the argument passed\r\n",
        "def print_factors(x):\r\n",
        "   print(\"The factors of\",x,\"are:\")\r\n",
        "   for i in range(1, x + 1):\r\n",
        "       if x % i == 0:\r\n",
        "           print(i)\r\n",
        "\r\n",
        "num = 320\r\n",
        "\r\n",
        "print_factors(num)"
      ],
      "execution_count": null,
      "outputs": [
        {
          "output_type": "stream",
          "text": [
            "The factors of 320 are:\n",
            "1\n",
            "2\n",
            "4\n",
            "5\n",
            "8\n",
            "10\n",
            "16\n",
            "20\n",
            "32\n",
            "40\n",
            "64\n",
            "80\n",
            "160\n",
            "320\n"
          ],
          "name": "stdout"
        }
      ]
    },
    {
      "cell_type": "code",
      "metadata": {
        "colab": {
          "base_uri": "https://localhost:8080/"
        },
        "id": "8IBKb4e2nO2V",
        "outputId": "41b7d1a8-9757-49bd-a6f7-ea96c8b4ba4c"
      },
      "source": [
        "# write lamba function to find area of a square\r\n",
        "x=lambda a:a*a\r\n",
        "print(\"area of a square:\",x(5))"
      ],
      "execution_count": null,
      "outputs": [
        {
          "output_type": "stream",
          "text": [
            "area of a square: 25\n"
          ],
          "name": "stdout"
        }
      ]
    },
    {
      "cell_type": "code",
      "metadata": {
        "colab": {
          "base_uri": "https://localhost:8080/"
        },
        "id": "TT0aNW6NnQaD",
        "outputId": "2a4bf44b-9fb7-499f-c1cf-a85fd92f718e"
      },
      "source": [
        "# Area of a rectangle\r\n",
        "x=lambda b,l:b*1\r\n",
        "print(\"area of rectangle:\",x(20,9))"
      ],
      "execution_count": null,
      "outputs": [
        {
          "output_type": "stream",
          "text": [
            "area of rectangle: 20\n"
          ],
          "name": "stdout"
        }
      ]
    },
    {
      "cell_type": "code",
      "metadata": {
        "colab": {
          "base_uri": "https://localhost:8080/"
        },
        "id": "_OqVB5xDnQrA",
        "outputId": "b1d6d16f-ff68-4a5e-8eaa-ed5fed91aca2"
      },
      "source": [
        "# Area of triangle\r\n",
        "x=lambda b,h:1/2*b*h\r\n",
        "print(\"area of a triangle:\", x(3,4))"
      ],
      "execution_count": null,
      "outputs": [
        {
          "output_type": "stream",
          "text": [
            "area of a triangle: 6.0\n"
          ],
          "name": "stdout"
        }
      ]
    }
  ]
}